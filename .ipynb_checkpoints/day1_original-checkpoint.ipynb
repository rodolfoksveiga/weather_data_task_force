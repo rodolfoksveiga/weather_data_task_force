{
 "cells": [
  {
   "cell_type": "markdown",
   "metadata": {},
   "source": [
    "# Annex 80 Weather Data Task Force Workshop - Day 1"
   ]
  },
  {
   "cell_type": "markdown",
   "metadata": {},
   "source": [
    "## Extracting CORDEX Data from NETCDF4 Files"
   ]
  },
  {
   "cell_type": "markdown",
   "metadata": {},
   "source": [
    "**Release history**\n",
    "\n",
    "v0 : 2020-09-15\n",
    "\n",
    "**License**\n",
    "\n",
    "Licensed by La Rochelle University/LaSIE under a BSD 3 license (https://opensource.org/licenses/BSD-3-Clause).\n",
    "\n",
    "**To use this code please cite the following publication:**\n",
    "\n",
    "*Machard, A. , Inard, C., Alessandrini, J.M., Pelé, C., Ribéron, J.\n",
    "A Methodology for Assembling Future Weather Files Including Heatwaves for Building Thermal Simulations from the European Coordinated Regional Downscaling Experiment (EURO-CORDEX) Climate Data*\n",
    "\n",
    "https://www.mdpi.com/1996-1073/13/13/3424\n",
    "\n",
    "**Data**\n",
    "\n",
    "Data for this workshop were downloaded from the CORDEX Platform https://cordex.org/"
   ]
  },
  {
   "cell_type": "code",
   "execution_count": 32,
   "metadata": {},
   "outputs": [],
   "source": [
    "# import modules\n",
    "from __future__ import division\n",
    "import numpy as np\n",
    "import netCDF4\n",
    "import pandas as pd\n",
    "from glob import glob\n",
    "import xarray as xr\n",
    "from netCDF4 import num2date"
   ]
  },
  {
   "cell_type": "code",
   "execution_count": 33,
   "metadata": {},
   "outputs": [],
   "source": [
    "# declare the latitude and the longitude of sao paulo ()\n",
    "# ps.: city point must be the exact same one for which observations were collected\n",
    "latitude =  -23.6512\n",
    "longitude = 360 + 46.6224"
   ]
  },
  {
   "cell_type": "code",
   "execution_count": 34,
   "metadata": {},
   "outputs": [],
   "source": [
    "# insert paths where the .nc files are located\n",
    "data_paths = '/media/rodox/HD_EXTERNO/hurs/'"
   ]
  },
  {
   "cell_type": "code",
   "execution_count": 35,
   "metadata": {},
   "outputs": [],
   "source": [
    "# import the netcdf files and store them in files\n",
    "files = glob(data_path + \"/*.nc\")"
   ]
  },
  {
   "cell_type": "code",
   "execution_count": 36,
   "metadata": {},
   "outputs": [],
   "source": [
    "# define some convenient functions\n",
    "def GetVarName(path):\n",
    "    # get the variable name by splitting the caracter chain\n",
    "    name = path.split(\"_\")[1].split('/')[-1]\n",
    "    return name\n",
    "def GetIndex(path):\n",
    "    # open the file as an xarray, get the time index as a cftime index and convert it to a datetime index\n",
    "    idx = xr.open_dataset(path).indexes['time'].to_pydatetime()\n",
    "    return idx\n",
    "\n",
    "# create empty lists to store the values later\n",
    "names, idxs = [], []\n",
    "\n",
    "# apply those functions\n",
    "for f in files:\n",
    "    # call the function GetVarName() and store the variables names of all .nc files in \"names\"\n",
    "    n = GetVarName(f)\n",
    "    names.append(n)\n",
    "for f in files:\n",
    "    # call the function GetIndex() and store the indexes of all .nc files in \"idxs\"\n",
    "    i = GetIndex(f)\n",
    "    idxs.append(i)\n",
    "\n",
    "# check if all the files were assigned\n",
    "len(names)\n",
    "len(idxs)"
   ]
  },
  {
   "cell_type": "code",
   "execution_count": 58,
   "metadata": {},
   "outputs": [],
   "source": [
    "# GetData() opens the netcdf file, explores it, calculate the distance between each grid point and\n",
    "    # the city point and gets the variable at the closest point of the grid to our city point\n",
    "def GetData(file_path, variable, idx, lat = latitude, lon = longitude):\n",
    "    # track the file path and the variable\n",
    "    print('File path:', file_path)\n",
    "    print('Variable:',variable)\n",
    "    \n",
    "    # open the .nc file and store it in the variable nc\n",
    "    nc = netCDF4.Dataset(file_path, mode = 'r')\n",
    "    \n",
    "    # create empty lists of latitudes and longitudes\n",
    "    list_lat, list_lon = [], []\n",
    "    \n",
    "    # store all the latitudes and longitudes of the file in list_lat and list_lon, respectively\n",
    "    # iterate through the 2 lists\n",
    "    for (i, liste) in zip(['lat', 'lon'], [list_lat, list_lon]):\n",
    "        # iterate through the .nc file\n",
    "        for liste_i in nc.variables[i][:, :].tolist():\n",
    "            liste += [lat for lat in liste_i]\n",
    "        # print out information about the processed lists\n",
    "        print('Lenght of list_lat:', len(list_lat), 'Length of list_lon:', len(list_lon))\n",
    "        \n",
    "    # create a vector (v) which contains the coordinates  of the city point\n",
    "    D = 9.E15\n",
    "    v = np.array([lat, lon])\n",
    "    \n",
    "    # calculate the distance between that point & our city point for each grid point (lat, lon) of the .nc file\n",
    "    for (lat_i, lon_j) in zip(list_lat, list_lon):\n",
    "        # calculate the distance using the function np.linalg.norm which calculates the norm of the vector\n",
    "        Dij = np.linalg.norm(np.array([lat_i,lon_j]) - v)\n",
    "        # if the distance is inferior to the distance stored before, we update lat0 & lon0\n",
    "        # at the end of the loop, once we have compared all distances, the coordinates of the closest grid point are stored in lat0, lon0\n",
    "        if Dij < D:\n",
    "            lat0, lon0 = lat_i, lon_j\n",
    "        # update D\n",
    "        D = min(D, Dij)\n",
    "        \n",
    "    # create an array (ij0) which containts the index of the closest grid point to our city point\n",
    "    ij0 = np.where(nc.variables['lat'][:, :] == lat0)\n",
    "    \n",
    "    # print processed information\n",
    "    print('Smallest Distance D:', D)\n",
    "    print('lat:', lat0)\n",
    "    print('lon:', lon0)\n",
    "    print('ij index:', ij0[0][0], ij0[1][0])\n",
    "    \n",
    "    # store in var the variable at the closest grid point to our city point: lat0, lon0\n",
    "    var = nc.variables[variable][:,ij0[0][0], ij0[1][0]]\n",
    "    print('Variable:',var)\n",
    "        \n",
    "    # create a pandas series that contains the variable associated to its time index\n",
    "    s = pd.Series(var, index = idx)\n",
    "    \n",
    "    # close the .nc file\n",
    "    nc.close()\n",
    "    \n",
    "    # return the variable as a pandas series\n",
    "    return s"
   ]
  },
  {
   "cell_type": "code",
   "execution_count": 59,
   "metadata": {},
   "outputs": [
    {
     "name": "stdout",
     "output_type": "stream",
     "text": [
      "File path: /media/rodox/HD_EXTERNO/hurs/hurs_SAM-22_MPI-M-MPI-ESM-LR_rcp85_r1i1p1_GERICS-REMO2015_v1_3hr_208301010100-208312312200.nc\n",
      "Variable: hurs\n",
      "Lenght of list_lat: 98325 Length of list_lon: 0\n",
      "Lenght of list_lat: 98325 Length of list_lon: 98325\n",
      "Smallest Distance D: 302.3782687838759\n",
      "lat: -54.15266799926758\n",
      "lon: 254.17694091796875\n",
      "ij index: 0 0\n",
      "Variable: [73.41606  74.066216 77.48245  ... 80.72943  81.07449  80.55994 ]\n",
      "2083-01-01 01:00:00    73.416061\n",
      "2083-01-01 04:00:00    74.066216\n",
      "2083-01-01 07:00:00    77.482452\n",
      "2083-01-01 10:00:00    75.937202\n",
      "2083-01-01 13:00:00    74.254845\n",
      "                         ...    \n",
      "2083-12-31 10:00:00    80.981339\n",
      "2083-12-31 13:00:00    81.977142\n",
      "2083-12-31 16:00:00    80.729431\n",
      "2083-12-31 19:00:00    81.074493\n",
      "2083-12-31 22:00:00    80.559937\n",
      "Length: 2920, dtype: float32\n"
     ]
    }
   ],
   "source": [
    "# example for the 1st temperature file numbers\n",
    "temp_kelvin = GetData(files[20], names[20], idxs[20], latitude, longitude)\n",
    "# print example series\n",
    "print(temp_kelvin)"
   ]
  },
  {
   "cell_type": "code",
   "execution_count": 60,
   "metadata": {},
   "outputs": [],
   "source": [
    "# convert temperature from K to °C\n",
    "temp_celsius = temp_kelvin - 273.15"
   ]
  },
  {
   "cell_type": "code",
   "execution_count": 61,
   "metadata": {},
   "outputs": [
    {
     "data": {
      "text/plain": [
       "<matplotlib.axes._subplots.AxesSubplot at 0x7fae5f82eb50>"
      ]
     },
     "execution_count": 61,
     "metadata": {},
     "output_type": "execute_result"
    },
    {
     "data": {
      "image/png": "[encoded data removed]",
      "text/plain": [
       "<Figure size 432x288 with 1 Axes>"
      ]
     },
     "metadata": {
      "needs_background": "light"
     },
     "output_type": "display_data"
    }
   ],
   "source": [
    "# plot temperature Temperature\n",
    "temp_celsius.plot()"
   ]
  },
  {
   "cell_type": "markdown",
   "metadata": {},
   "source": [
    "## Please Run all the cells below AFTER the workshop as it will take some time to compute."
   ]
  },
  {
   "cell_type": "code",
   "execution_count": null,
   "metadata": {},
   "outputs": [],
   "source": [
    "# We create 6 empty series, one for each weather variable\n",
    "# If your CORDEX domain do not have the cloud cover, delete cc\n",
    "# If you have 3hourly data, we use specific humidity (huss), the relative humidity is not needed as we will recalculate it after the interpolation\n",
    "# If you have hourly data, we use relative humidity (hurs)\n",
    "\n",
    "import datetime\n",
    "beg = datetime.datetime.now()\n",
    "\n",
    "S_temp, S_hs, S_wind, S_cc, S_rs, S_pa = pd.Series([]), pd.Series([]), pd.Series([]), pd.Series([]), pd.Series([]), pd.Series([])\n",
    "\n",
    "# Iterating through each .nc file (list files), through each variable (list names), and through each year (list idxs)\n",
    "\n",
    "for f, n, i in zip (files, names, idxs):\n",
    "        \n",
    "# Calling the function get_data\n",
    "    \n",
    "    # Storing the series with the data in new\n",
    "    new = get_data(f, n, i)\n",
    "        \n",
    "    print(new.head())\n",
    "    \n",
    "    # If the name of the series is tas, it will be added to the series temperature (S_temp)\n",
    "    if n == 'tas':\n",
    "        S_temp = S_temp.append(new)\n",
    "        \n",
    "    # If the name of the series is clt, it will be added to the series cloud cover (S_cc)\n",
    "    if n == 'clt':\n",
    "        S_cc = S_cc.append(new)\n",
    "    # ...etc\n",
    "    if n == 'huss':\n",
    "        S_hs = S_hs.append(new)\n",
    "    if n == 'ps':\n",
    "        S_pa = S_pa.append(new)\n",
    "    if n == 'rsds':\n",
    "        S_rs = S_rs.append(new)\n",
    "    if n == 'sfcWind':\n",
    "        S_wind = S_wind.append(new)\n",
    "\n",
    "\n",
    "end = datetime.datetime.now()"
   ]
  },
  {
   "cell_type": "code",
   "execution_count": null,
   "metadata": {},
   "outputs": [],
   "source": [
    "# Priting the time needed to export the data\n",
    "print(beg)\n",
    "print(end)"
   ]
  },
  {
   "cell_type": "code",
   "execution_count": 17,
   "metadata": {},
   "outputs": [],
   "source": [
    "# Changing some data units.\n",
    "# Converting temperature from Kelvin to Celcius. \n",
    "S_temp = S_temp-273.15\n",
    "# Converting cloud cover from 1/100 to 1/10 (Tenths)\n",
    "S_cc = S_cc/10\n",
    "# Converting humidity data from g/kg to kg/kg.\n",
    "S_hs = S_hs*1000"
   ]
  },
  {
   "cell_type": "code",
   "execution_count": null,
   "metadata": {},
   "outputs": [],
   "source": [
    "# Merging all the data into a dataframe = A table with each variable (series) as a column\n",
    "df = pd.DataFrame({'tas':S_temp, 'huss':S_hs, 'sfcWind':S_wind, 'rsds':S_rs, 'clt':S_cc, 'ps':S_pa})"
   ]
  },
  {
   "cell_type": "code",
   "execution_count": 21,
   "metadata": {},
   "outputs": [],
   "source": [
    "# Path where to export the data as csv\n",
    "path_out = r'E:\\MPI-REMO'\n",
    "\n",
    "## Exporting the data to path_out as .csv\n",
    "df.to_csv(path_out+'\\data.csv', index=True, header=True)"
   ]
  },
  {
   "cell_type": "markdown",
   "metadata": {},
   "source": [
    "## Formatting & interpolating CORDEX climate data for building simulations"
   ]
  },
  {
   "cell_type": "code",
   "execution_count": null,
   "metadata": {},
   "outputs": [],
   "source": [
    "import pvlib\n",
    "from pvlib.location import Location"
   ]
  },
  {
   "cell_type": "code",
   "execution_count": null,
   "metadata": {},
   "outputs": [],
   "source": [
    "path = r'E:\\MPI-REMO\\data.csv'"
   ]
  },
  {
   "cell_type": "code",
   "execution_count": null,
   "metadata": {},
   "outputs": [],
   "source": [
    "df = pd.read_csv(path,index_col=0,header=0)\n",
    "df.index = pd.to_datetime(df.index)"
   ]
  },
  {
   "cell_type": "code",
   "execution_count": null,
   "metadata": {},
   "outputs": [],
   "source": [
    "df"
   ]
  },
  {
   "cell_type": "code",
   "execution_count": null,
   "metadata": {},
   "outputs": [],
   "source": [
    "# Function to interpolate the temperature every 30 min\n",
    "\n",
    "def interpolate_30min_poly_temp(s, idx_30min):\n",
    "    \n",
    "    # Redindexing the series to 30min time-step and interpolating to 30min time-step\n",
    "    s_30min = s.reindex(idx_30min).interpolate('polynomial',order=7)\n",
    "\n",
    "    # Filling the 1st and 2nd values with the 3rd and the last 3 values with the last 4th value\n",
    "    last = s_30min.iloc[len(s_30min)-4]\n",
    "    s_30min.iloc[len(s_30min)-3:len(s_30min)] = [last, last, last]\n",
    "    first = s_30min[2]\n",
    "    s_30min[0] = first\n",
    "    s_30min[1] = first\n",
    "    \n",
    "    return s_30min"
   ]
  },
  {
   "cell_type": "code",
   "execution_count": null,
   "metadata": {},
   "outputs": [],
   "source": [
    "# Defining an index every 30 min\n",
    "idx_30min = pd.date_range(start='1/1/2041', end='31/12/2060 23:30:00', freq='30min')\n",
    "# Calling the function\n",
    "dbt_30min = interpolate_30min_poly_temp(df['tas'], idx_30min)"
   ]
  },
  {
   "cell_type": "code",
   "execution_count": null,
   "metadata": {},
   "outputs": [],
   "source": [
    "dbt_30min"
   ]
  },
  {
   "cell_type": "code",
   "execution_count": null,
   "metadata": {},
   "outputs": [],
   "source": [
    "df['tas']['2041-01-03'].plot(marker=\"*\")\n",
    "dbt_30min['2041-01-03'].plot()"
   ]
  },
  {
   "cell_type": "code",
   "execution_count": null,
   "metadata": {},
   "outputs": [],
   "source": [
    "# Function to interpolate the humidity, wind, atmospheric pressure and cloud cover (linear by default)\n",
    "\n",
    "def interpolate_30min_linear_hs_wind_pa_cc(s, idx_30min):\n",
    "\n",
    "    s_30min = s.reindex(idx_30min).interpolate(method='linear')\n",
    "    # Filling the first 3 missing values\n",
    "    s_30min[0] = s_30min[3]\n",
    "    s_30min[1] = s_30min[3]\n",
    "    s_30min[2] = s_30min[3]\n",
    "        \n",
    "    return s_30min"
   ]
  },
  {
   "cell_type": "code",
   "execution_count": null,
   "metadata": {},
   "outputs": [],
   "source": [
    "sh_30min = interpolate_30min_linear_hs_wind_pa_cc(df['huss'], idx_30min)\n",
    "ws_30min = interpolate_30min_linear_hs_wind_pa_cc(df['sfcWind'], idx_30min)\n",
    "ap_30min = interpolate_30min_linear_hs_wind_pa_cc(df['ps'], idx_30min)\n",
    "cc_30min = interpolate_30min_linear_hs_wind_pa_cc(df['clt'], idx_30min)"
   ]
  },
  {
   "cell_type": "code",
   "execution_count": null,
   "metadata": {},
   "outputs": [],
   "source": [
    "sh_30min"
   ]
  },
  {
   "cell_type": "code",
   "execution_count": null,
   "metadata": {},
   "outputs": [],
   "source": [
    "# Plotting specific humidity\n",
    "df['huss']['2041-01-03'].plot(marker=\"*\")\n",
    "sh_30min['2041-01-03'].plot()"
   ]
  },
  {
   "cell_type": "code",
   "execution_count": null,
   "metadata": {},
   "outputs": [],
   "source": [
    "ws_30min"
   ]
  },
  {
   "cell_type": "code",
   "execution_count": null,
   "metadata": {},
   "outputs": [],
   "source": [
    "df['sfcWind']['2041-01-03'].plot(marker=\"*\")\n",
    "ws_30min['2041-01-03'].plot()"
   ]
  },
  {
   "cell_type": "code",
   "execution_count": null,
   "metadata": {},
   "outputs": [],
   "source": [
    "ws_30min['2041'].plot()"
   ]
  },
  {
   "cell_type": "code",
   "execution_count": null,
   "metadata": {},
   "outputs": [],
   "source": [
    "cc_30min['2041'].plot()"
   ]
  },
  {
   "cell_type": "code",
   "execution_count": null,
   "metadata": {},
   "outputs": [],
   "source": [
    "ap_30min['2041'].plot()"
   ]
  },
  {
   "cell_type": "code",
   "execution_count": null,
   "metadata": {},
   "outputs": [],
   "source": [
    "# Global Solar Radiation\n",
    "gsr_30min = df['rsds'].reindex(idx_30min)"
   ]
  },
  {
   "cell_type": "code",
   "execution_count": null,
   "metadata": {},
   "outputs": [],
   "source": [
    "# Winter Day in Paris\n",
    "df['rsds']['2041-01-01'].plot(marker=\"*\")"
   ]
  },
  {
   "cell_type": "code",
   "execution_count": null,
   "metadata": {},
   "outputs": [],
   "source": [
    "# Summer Day in Paris\n",
    "df['rsds']['2041-06-03'].plot(marker=\"*\")"
   ]
  },
  {
   "cell_type": "code",
   "execution_count": null,
   "metadata": {},
   "outputs": [],
   "source": [
    "# Getting the sun height from pvlib module\n",
    "loc = Location(48.77, 2.01, tz='UTC', altitude=75, name='Paris')\n",
    "times_loc = idx_30min.tz_localize(loc.pytz, nonexistent='shift_backward', ambiguous=False)\n",
    "sun_data = pvlib.solarposition.pyephem(times_loc, loc.latitude, loc.longitude)"
   ]
  },
  {
   "cell_type": "code",
   "execution_count": null,
   "metadata": {},
   "outputs": [],
   "source": [
    "sun_data"
   ]
  },
  {
   "cell_type": "code",
   "execution_count": null,
   "metadata": {},
   "outputs": [],
   "source": [
    "gsr_30min"
   ]
  },
  {
   "cell_type": "code",
   "execution_count": null,
   "metadata": {},
   "outputs": [],
   "source": [
    "# Creating the dataframe df_sun with the global solar radiation rsds and the sun height h\n",
    "df_sun = pd.DataFrame({'rsds':gsr_30min,'h':sun_data['elevation'].to_list()})\n",
    "\n",
    "# WARNING: Because the sun values are average values, sometimes there is a data point when the sun is actually down.\n",
    "# Creating the column gsr sun up in the dataframe\n",
    "# If the sun height is < 0, gsr sun up = 0, otherwise gsr sun up = gsr\n",
    "df_sun['rsds sun up'] = np.where(df_sun['h']<0,0,df_sun['rsds'])\n",
    "\n",
    "# Creating the column gsr final up in the dataframe\n",
    "# Interpolating from 3Hour to 30min\n",
    "df_sun['rsds final'] = df_sun['rsds sun up'].interpolate(method='polynomial', order=2) "
   ]
  },
  {
   "cell_type": "code",
   "execution_count": null,
   "metadata": {},
   "outputs": [],
   "source": [
    "# Check for a winter day\n",
    "df_sun['rsds']['2041-01-01'].plot(marker=\"*\", legend=True)\n",
    "df_sun['rsds final']['2041-01-01'].plot(legend=True)\n",
    "df_sun['h']['2041-01-01'].plot(legend=True)"
   ]
  },
  {
   "cell_type": "code",
   "execution_count": null,
   "metadata": {},
   "outputs": [],
   "source": [
    "# Check for a summer day\n",
    "df_sun['rsds']['2041-06-03'].plot(marker=\"*\", legend=True)\n",
    "df_sun['rsds final']['2041-06-03'].plot(legend=True)\n",
    "df_sun['h']['2041-06-03'].plot(legend=True)"
   ]
  },
  {
   "cell_type": "code",
   "execution_count": null,
   "metadata": {},
   "outputs": [],
   "source": [
    "# Creating a dataframe with all data series\n",
    "df_30min = pd.DataFrame({'tas':dbt_30min, 'huss':sh_30min, 'sfcWind':ws_30min, 'ps':ap_30min, 'clt':cc_30min, 'rsds':df_sun['rsds final'].to_list()})"
   ]
  },
  {
   "cell_type": "code",
   "execution_count": null,
   "metadata": {},
   "outputs": [],
   "source": [
    "df_30min"
   ]
  },
  {
   "cell_type": "code",
   "execution_count": null,
   "metadata": {},
   "outputs": [],
   "source": [
    "## Reindexing to 1HR\n",
    "df_1H = df_30min.iloc[::2] "
   ]
  },
  {
   "cell_type": "code",
   "execution_count": null,
   "metadata": {},
   "outputs": [],
   "source": [
    "df_1H"
   ]
  },
  {
   "cell_type": "code",
   "execution_count": null,
   "metadata": {},
   "outputs": [],
   "source": [
    "# Calculating the vapor pressure\n",
    "df_1H['pv'] = ((df_1H['huss']/1000*df_1H['ps']/100)/(0.62198+df_1H['huss']/1000)) # PV is en hASP or mBar\n",
    "\n",
    "# Calculating the saturated vapor pressure\n",
    "df_1H.loc[df_1H['tas'] < 0, 'svp'] = 6.105 * np.exp((21.875*df_1H['tas'])/(265.5+df_1H['tas']))\n",
    "df_1H.loc[df_1H['tas'] > 0, 'svp'] = 6.105 * np.exp((17.269*df_1H['tas'])/(237.3+df_1H['tas']))\n",
    "\n",
    "# Calculating the Relative Humidity in percentage\n",
    "df_1H['hurs'] = df_1H['pv']/df_1H ['svp']*100"
   ]
  },
  {
   "cell_type": "code",
   "execution_count": null,
   "metadata": {},
   "outputs": [],
   "source": [
    "df_1H['pv']"
   ]
  },
  {
   "cell_type": "code",
   "execution_count": null,
   "metadata": {},
   "outputs": [],
   "source": [
    "df_1H['svp']"
   ]
  },
  {
   "cell_type": "code",
   "execution_count": null,
   "metadata": {},
   "outputs": [],
   "source": [
    "df_1H['hurs']"
   ]
  },
  {
   "cell_type": "code",
   "execution_count": null,
   "metadata": {},
   "outputs": [],
   "source": [
    "df_1H['hurs']['2041'].plot()"
   ]
  },
  {
   "cell_type": "code",
   "execution_count": null,
   "metadata": {},
   "outputs": [],
   "source": [
    "del df_1H['pv']\n",
    "del df_1H['svp']"
   ]
  },
  {
   "cell_type": "code",
   "execution_count": null,
   "metadata": {},
   "outputs": [],
   "source": [
    "df_1H"
   ]
  },
  {
   "cell_type": "code",
   "execution_count": null,
   "metadata": {},
   "outputs": [],
   "source": [
    "# rodolfo\n",
    "# change the paris to Sao_Paulo\n",
    "\n",
    "# Exporting data to .csv\n",
    "# WARNING: The data are in UTC\n",
    "ville = 'Paris'\n",
    "path_out = r'E:\\\\MPI-REMO'\n",
    "df_1H.to_csv(path_out + '/' + '2020-09-15_WDTF_'+ville+'_'+'hourly-weather-data-CORDEX_2041-2060-rcp85.csv', index=True, header=True)"
   ]
  }
 ],
 "metadata": {
  "kernelspec": {
   "display_name": "Python 3",
   "language": "python",
   "name": "python3"
  },
  "language_info": {
   "codemirror_mode": {
    "name": "ipython",
    "version": 3
   },
   "file_extension": ".py",
   "mimetype": "text/x-python",
   "name": "python",
   "nbconvert_exporter": "python",
   "pygments_lexer": "ipython3",
   "version": "3.8.2"
  }
 },
 "nbformat": 4,
 "nbformat_minor": 4
}
